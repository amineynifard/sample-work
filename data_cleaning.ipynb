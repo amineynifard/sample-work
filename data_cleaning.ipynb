{
 "cells": [
  {
   "cell_type": "code",
   "execution_count": 1,
   "id": "fdd39851-a630-48a6-b477-e22341440501",
   "metadata": {},
   "outputs": [],
   "source": [
    "import pandas as pd\n",
    "import numpy as np"
   ]
  },
  {
   "cell_type": "code",
   "execution_count": 2,
   "id": "83ab9279-e5c9-402b-aee7-c7991109db1e",
   "metadata": {},
   "outputs": [],
   "source": [
    "df = pd.read_csv(r\"C:\\Users\\nitro 5\\Desktop\\AI\\Data Science\\data\\movies.csv\")"
   ]
  },
  {
   "cell_type": "code",
   "execution_count": 3,
   "id": "a2decca5-25af-4472-9893-ac3228239051",
   "metadata": {},
   "outputs": [
    {
     "data": {
      "text/html": [
       "<div>\n",
       "<style scoped>\n",
       "    .dataframe tbody tr th:only-of-type {\n",
       "        vertical-align: middle;\n",
       "    }\n",
       "\n",
       "    .dataframe tbody tr th {\n",
       "        vertical-align: top;\n",
       "    }\n",
       "\n",
       "    .dataframe thead th {\n",
       "        text-align: right;\n",
       "    }\n",
       "</style>\n",
       "<table border=\"1\" class=\"dataframe\">\n",
       "  <thead>\n",
       "    <tr style=\"text-align: right;\">\n",
       "      <th></th>\n",
       "      <th>MOVIES</th>\n",
       "      <th>YEAR</th>\n",
       "      <th>GENRE</th>\n",
       "      <th>RATING</th>\n",
       "      <th>ONE-LINE</th>\n",
       "      <th>STARS</th>\n",
       "      <th>VOTES</th>\n",
       "      <th>RunTime</th>\n",
       "      <th>Gross</th>\n",
       "    </tr>\n",
       "  </thead>\n",
       "  <tbody>\n",
       "    <tr>\n",
       "      <th>0</th>\n",
       "      <td>Blood Red Sky</td>\n",
       "      <td>(2021)</td>\n",
       "      <td>\\nAction, Horror, Thriller</td>\n",
       "      <td>6.1</td>\n",
       "      <td>\\nA woman with a mysterious illness is forced ...</td>\n",
       "      <td>\\n    Director:\\nPeter Thorwarth\\n| \\n    Star...</td>\n",
       "      <td>21,062</td>\n",
       "      <td>121.0</td>\n",
       "      <td>NaN</td>\n",
       "    </tr>\n",
       "    <tr>\n",
       "      <th>1</th>\n",
       "      <td>Masters of the Universe: Revelation</td>\n",
       "      <td>(2021– )</td>\n",
       "      <td>\\nAnimation, Action, Adventure</td>\n",
       "      <td>5.0</td>\n",
       "      <td>\\nThe war for Eternia begins again in what may...</td>\n",
       "      <td>\\n            \\n    Stars:\\nChris Wood, \\nSara...</td>\n",
       "      <td>17,870</td>\n",
       "      <td>25.0</td>\n",
       "      <td>NaN</td>\n",
       "    </tr>\n",
       "    <tr>\n",
       "      <th>2</th>\n",
       "      <td>The Walking Dead</td>\n",
       "      <td>(2010–2022)</td>\n",
       "      <td>\\nDrama, Horror, Thriller</td>\n",
       "      <td>8.2</td>\n",
       "      <td>\\nSheriff Deputy Rick Grimes wakes up from a c...</td>\n",
       "      <td>\\n            \\n    Stars:\\nAndrew Lincoln, \\n...</td>\n",
       "      <td>885,805</td>\n",
       "      <td>44.0</td>\n",
       "      <td>NaN</td>\n",
       "    </tr>\n",
       "    <tr>\n",
       "      <th>3</th>\n",
       "      <td>Rick and Morty</td>\n",
       "      <td>(2013– )</td>\n",
       "      <td>\\nAnimation, Adventure, Comedy</td>\n",
       "      <td>9.2</td>\n",
       "      <td>\\nAn animated series that follows the exploits...</td>\n",
       "      <td>\\n            \\n    Stars:\\nJustin Roiland, \\n...</td>\n",
       "      <td>414,849</td>\n",
       "      <td>23.0</td>\n",
       "      <td>NaN</td>\n",
       "    </tr>\n",
       "    <tr>\n",
       "      <th>4</th>\n",
       "      <td>Army of Thieves</td>\n",
       "      <td>(2021)</td>\n",
       "      <td>\\nAction, Crime, Horror</td>\n",
       "      <td>NaN</td>\n",
       "      <td>\\nA prequel, set before the events of Army of ...</td>\n",
       "      <td>\\n    Director:\\nMatthias Schweighöfer\\n| \\n  ...</td>\n",
       "      <td>NaN</td>\n",
       "      <td>NaN</td>\n",
       "      <td>NaN</td>\n",
       "    </tr>\n",
       "  </tbody>\n",
       "</table>\n",
       "</div>"
      ],
      "text/plain": [
       "                                MOVIES         YEAR  \\\n",
       "0                        Blood Red Sky       (2021)   \n",
       "1  Masters of the Universe: Revelation     (2021– )   \n",
       "2                     The Walking Dead  (2010–2022)   \n",
       "3                       Rick and Morty     (2013– )   \n",
       "4                      Army of Thieves       (2021)   \n",
       "\n",
       "                                        GENRE  RATING  \\\n",
       "0      \\nAction, Horror, Thriller                 6.1   \n",
       "1  \\nAnimation, Action, Adventure                 5.0   \n",
       "2       \\nDrama, Horror, Thriller                 8.2   \n",
       "3  \\nAnimation, Adventure, Comedy                 9.2   \n",
       "4         \\nAction, Crime, Horror                 NaN   \n",
       "\n",
       "                                            ONE-LINE  \\\n",
       "0  \\nA woman with a mysterious illness is forced ...   \n",
       "1  \\nThe war for Eternia begins again in what may...   \n",
       "2  \\nSheriff Deputy Rick Grimes wakes up from a c...   \n",
       "3  \\nAn animated series that follows the exploits...   \n",
       "4  \\nA prequel, set before the events of Army of ...   \n",
       "\n",
       "                                               STARS    VOTES  RunTime Gross  \n",
       "0  \\n    Director:\\nPeter Thorwarth\\n| \\n    Star...   21,062    121.0   NaN  \n",
       "1  \\n            \\n    Stars:\\nChris Wood, \\nSara...   17,870     25.0   NaN  \n",
       "2  \\n            \\n    Stars:\\nAndrew Lincoln, \\n...  885,805     44.0   NaN  \n",
       "3  \\n            \\n    Stars:\\nJustin Roiland, \\n...  414,849     23.0   NaN  \n",
       "4  \\n    Director:\\nMatthias Schweighöfer\\n| \\n  ...      NaN      NaN   NaN  "
      ]
     },
     "execution_count": 3,
     "metadata": {},
     "output_type": "execute_result"
    }
   ],
   "source": [
    "df.head()"
   ]
  },
  {
   "cell_type": "code",
   "execution_count": 4,
   "id": "7d00eb04-247f-462a-808e-0352ca25a0b2",
   "metadata": {},
   "outputs": [
    {
     "name": "stdout",
     "output_type": "stream",
     "text": [
      "<class 'pandas.core.frame.DataFrame'>\n",
      "RangeIndex: 9999 entries, 0 to 9998\n",
      "Data columns (total 9 columns):\n",
      " #   Column    Non-Null Count  Dtype  \n",
      "---  ------    --------------  -----  \n",
      " 0   MOVIES    9999 non-null   object \n",
      " 1   YEAR      9355 non-null   object \n",
      " 2   GENRE     9919 non-null   object \n",
      " 3   RATING    8179 non-null   float64\n",
      " 4   ONE-LINE  9999 non-null   object \n",
      " 5   STARS     9999 non-null   object \n",
      " 6   VOTES     8179 non-null   object \n",
      " 7   RunTime   7041 non-null   float64\n",
      " 8   Gross     460 non-null    object \n",
      "dtypes: float64(2), object(7)\n",
      "memory usage: 703.2+ KB\n"
     ]
    }
   ],
   "source": [
    "df.info()"
   ]
  },
  {
   "cell_type": "code",
   "execution_count": 5,
   "id": "ee245941-74fd-4285-83ad-b98b97294492",
   "metadata": {},
   "outputs": [
    {
     "data": {
      "text/html": [
       "<div>\n",
       "<style scoped>\n",
       "    .dataframe tbody tr th:only-of-type {\n",
       "        vertical-align: middle;\n",
       "    }\n",
       "\n",
       "    .dataframe tbody tr th {\n",
       "        vertical-align: top;\n",
       "    }\n",
       "\n",
       "    .dataframe thead th {\n",
       "        text-align: right;\n",
       "    }\n",
       "</style>\n",
       "<table border=\"1\" class=\"dataframe\">\n",
       "  <thead>\n",
       "    <tr style=\"text-align: right;\">\n",
       "      <th></th>\n",
       "      <th>MOVIES</th>\n",
       "      <th>YEAR</th>\n",
       "      <th>GENRE</th>\n",
       "      <th>ONE-LINE</th>\n",
       "      <th>STARS</th>\n",
       "      <th>VOTES</th>\n",
       "      <th>Gross</th>\n",
       "    </tr>\n",
       "  </thead>\n",
       "  <tbody>\n",
       "    <tr>\n",
       "      <th>count</th>\n",
       "      <td>9999</td>\n",
       "      <td>9355</td>\n",
       "      <td>9919</td>\n",
       "      <td>9999</td>\n",
       "      <td>9999</td>\n",
       "      <td>8179</td>\n",
       "      <td>460</td>\n",
       "    </tr>\n",
       "    <tr>\n",
       "      <th>unique</th>\n",
       "      <td>6817</td>\n",
       "      <td>438</td>\n",
       "      <td>510</td>\n",
       "      <td>8688</td>\n",
       "      <td>7877</td>\n",
       "      <td>4129</td>\n",
       "      <td>332</td>\n",
       "    </tr>\n",
       "    <tr>\n",
       "      <th>top</th>\n",
       "      <td>Bleach: Burîchi</td>\n",
       "      <td>(2020– )</td>\n",
       "      <td>\\nComedy</td>\n",
       "      <td>\\nAdd a Plot\\n</td>\n",
       "      <td>\\n</td>\n",
       "      <td>7</td>\n",
       "      <td>$0.01M</td>\n",
       "    </tr>\n",
       "    <tr>\n",
       "      <th>freq</th>\n",
       "      <td>65</td>\n",
       "      <td>892</td>\n",
       "      <td>852</td>\n",
       "      <td>1265</td>\n",
       "      <td>456</td>\n",
       "      <td>35</td>\n",
       "      <td>22</td>\n",
       "    </tr>\n",
       "  </tbody>\n",
       "</table>\n",
       "</div>"
      ],
      "text/plain": [
       "                  MOVIES      YEAR                 GENRE        ONE-LINE  \\\n",
       "count               9999      9355                  9919            9999   \n",
       "unique              6817       438                   510            8688   \n",
       "top      Bleach: Burîchi  (2020– )  \\nComedy              \\nAdd a Plot\\n   \n",
       "freq                  65       892                   852            1265   \n",
       "\n",
       "       STARS VOTES   Gross  \n",
       "count   9999  8179     460  \n",
       "unique  7877  4129     332  \n",
       "top       \\n     7  $0.01M  \n",
       "freq     456    35      22  "
      ]
     },
     "execution_count": 5,
     "metadata": {},
     "output_type": "execute_result"
    }
   ],
   "source": [
    "obj_cols = df.select_dtypes(include=['object'])\n",
    "obj_cols.describe()"
   ]
  },
  {
   "cell_type": "code",
   "execution_count": 6,
   "id": "3cd426a3-3812-4f85-962a-5e0903d2dc60",
   "metadata": {},
   "outputs": [],
   "source": [
    "df.rename(columns={'Movies': \"Name\", \"ONE-LINE\": \"Describe\"}, inplace= True)"
   ]
  },
  {
   "cell_type": "code",
   "execution_count": 7,
   "id": "b36c38c7-5e32-4727-8114-4eac8ee9d26f",
   "metadata": {},
   "outputs": [],
   "source": [
    "# fix the names of all columns . ex : GENRE -> Genre\n",
    "cols = [col[0].upper() + col[1:].lower() for col in list(df.columns)]\n",
    "df.columns = cols"
   ]
  },
  {
   "cell_type": "code",
   "execution_count": 8,
   "id": "f2a44c62-f6f8-4145-ab87-a66ad3eb44d5",
   "metadata": {},
   "outputs": [
    {
     "data": {
      "text/plain": [
       "9539"
      ]
     },
     "execution_count": 8,
     "metadata": {},
     "output_type": "execute_result"
    }
   ],
   "source": [
    "# drop Gross column cause have missing values a lot\n",
    "df[\"Gross\"].isnull().sum()"
   ]
  },
  {
   "cell_type": "code",
   "execution_count": 9,
   "id": "9f342608-efbd-47ec-9a37-de2c5bd15847",
   "metadata": {},
   "outputs": [],
   "source": [
    "df.drop(columns=['Gross'], inplace=True)"
   ]
  },
  {
   "cell_type": "code",
   "execution_count": 10,
   "id": "312a76d2-064f-48a7-809c-4e467092b0bc",
   "metadata": {},
   "outputs": [
    {
     "data": {
      "text/plain": [
       "Movies         0\n",
       "Year         644\n",
       "Genre         80\n",
       "Rating      1820\n",
       "Describe       0\n",
       "Stars          0\n",
       "Votes       1820\n",
       "Runtime     2958\n",
       "dtype: int64"
      ]
     },
     "execution_count": 10,
     "metadata": {},
     "output_type": "execute_result"
    }
   ],
   "source": [
    "df.isnull().sum()"
   ]
  },
  {
   "cell_type": "code",
   "execution_count": 11,
   "id": "41998229-f313-48ce-ac21-afd275fd6d44",
   "metadata": {},
   "outputs": [],
   "source": [
    "# convert NaN values to string values for doing process.\n",
    "df[\"Year\"] = df[\"Year\"].fillna(\"Unknown\")\n",
    "# fix the format of string : removing Parentheses\n",
    "df[\"Year\"] = df[\"Year\"].str.replace(r\"[()]\", \"\", regex=True)"
   ]
  },
  {
   "cell_type": "code",
   "execution_count": 12,
   "id": "af9604f6-58af-4d85-b6b3-c7e96a8c39ee",
   "metadata": {},
   "outputs": [],
   "source": [
    "# split the \"Year\" column to two column\n",
    "df[\"StartYear\"] = df[\"Year\"].str.split('–').str[0]\n",
    "df['EndYear'] = df[\"Year\"].str.split('–').str[1]"
   ]
  },
  {
   "cell_type": "code",
   "execution_count": 14,
   "id": "704a9313-4b72-45a6-88b6-e72f6fe2a06e",
   "metadata": {},
   "outputs": [
    {
     "data": {
      "text/plain": [
       "8611"
      ]
     },
     "execution_count": 14,
     "metadata": {},
     "output_type": "execute_result"
    }
   ],
   "source": [
    "# identyfing pattern of these two column and back them to \"Year\" column.\n",
    "df[\"EndYear\"] = df[\"EndYear\"].replace(\" \", np.nan)\n",
    "df['EndYear'].isnull().sum()"
   ]
  },
  {
   "cell_type": "code",
   "execution_count": 15,
   "id": "37808848-5c87-4b86-a744-b263313fe2c7",
   "metadata": {},
   "outputs": [],
   "source": [
    "df[\"Year\"] = df[\"StartYear\"]"
   ]
  },
  {
   "cell_type": "code",
   "execution_count": 16,
   "id": "1b7fe126-c67a-4880-b35d-ac5413316b51",
   "metadata": {},
   "outputs": [],
   "source": [
    "df.drop(columns=[\"StartYear\", \"EndYear\"], inplace=True)"
   ]
  },
  {
   "cell_type": "code",
   "execution_count": 17,
   "id": "a09b1def-4e9f-406f-abac-7c084d196600",
   "metadata": {},
   "outputs": [
    {
     "data": {
      "text/html": [
       "<div>\n",
       "<style scoped>\n",
       "    .dataframe tbody tr th:only-of-type {\n",
       "        vertical-align: middle;\n",
       "    }\n",
       "\n",
       "    .dataframe tbody tr th {\n",
       "        vertical-align: top;\n",
       "    }\n",
       "\n",
       "    .dataframe thead th {\n",
       "        text-align: right;\n",
       "    }\n",
       "</style>\n",
       "<table border=\"1\" class=\"dataframe\">\n",
       "  <thead>\n",
       "    <tr style=\"text-align: right;\">\n",
       "      <th></th>\n",
       "      <th>Movies</th>\n",
       "      <th>Year</th>\n",
       "      <th>Genre</th>\n",
       "      <th>Rating</th>\n",
       "      <th>Describe</th>\n",
       "      <th>Stars</th>\n",
       "      <th>Votes</th>\n",
       "      <th>Runtime</th>\n",
       "    </tr>\n",
       "  </thead>\n",
       "  <tbody>\n",
       "    <tr>\n",
       "      <th>36</th>\n",
       "      <td>Titans</td>\n",
       "      <td>I 2018</td>\n",
       "      <td>\\nAction, Adventure, Crime</td>\n",
       "      <td>7.7</td>\n",
       "      <td>\\nA team of young superheroes combat evil and ...</td>\n",
       "      <td>\\n            \\n    Stars:\\nBrenton Thwaites, ...</td>\n",
       "      <td>73,656</td>\n",
       "      <td>45.0</td>\n",
       "    </tr>\n",
       "    <tr>\n",
       "      <th>443</th>\n",
       "      <td>Climax</td>\n",
       "      <td>I 2018</td>\n",
       "      <td>\\nDrama, Horror, Music</td>\n",
       "      <td>7.0</td>\n",
       "      <td>\\nFrench dancers gather in a remote, empty sch...</td>\n",
       "      <td>\\n    Director:\\nGaspar Noé\\n| \\n    Stars:\\nS...</td>\n",
       "      <td>58,051</td>\n",
       "      <td>97.0</td>\n",
       "    </tr>\n",
       "    <tr>\n",
       "      <th>880</th>\n",
       "      <td>The Outsider</td>\n",
       "      <td>I 2018</td>\n",
       "      <td>\\nAction, Crime, Drama</td>\n",
       "      <td>6.3</td>\n",
       "      <td>\\nAn epic set in post-WWII Japan and centered ...</td>\n",
       "      <td>\\n    Director:\\nMartin Zandvliet\\n| \\n    Sta...</td>\n",
       "      <td>22,393</td>\n",
       "      <td>120.0</td>\n",
       "    </tr>\n",
       "    <tr>\n",
       "      <th>899</th>\n",
       "      <td>Anon</td>\n",
       "      <td>I 2018</td>\n",
       "      <td>\\nCrime, Sci-Fi, Thriller</td>\n",
       "      <td>6.1</td>\n",
       "      <td>\\nIn a world without anonymity or crime, a det...</td>\n",
       "      <td>\\n    Director:\\nAndrew Niccol\\n| \\n    Stars:...</td>\n",
       "      <td>40,017</td>\n",
       "      <td>100.0</td>\n",
       "    </tr>\n",
       "    <tr>\n",
       "      <th>1047</th>\n",
       "      <td>Welcome Home</td>\n",
       "      <td>I 2018</td>\n",
       "      <td>\\nThriller</td>\n",
       "      <td>5.2</td>\n",
       "      <td>\\nA couple spend a weekend at a vacation renta...</td>\n",
       "      <td>\\n    Director:\\nGeorge Ratliff\\n| \\n    Stars...</td>\n",
       "      <td>6,846</td>\n",
       "      <td>97.0</td>\n",
       "    </tr>\n",
       "  </tbody>\n",
       "</table>\n",
       "</div>"
      ],
      "text/plain": [
       "            Movies    Year                                   Genre  Rating  \\\n",
       "36          Titans  I 2018  \\nAction, Adventure, Crime                 7.7   \n",
       "443         Climax  I 2018      \\nDrama, Horror, Music                 7.0   \n",
       "880   The Outsider  I 2018      \\nAction, Crime, Drama                 6.3   \n",
       "899           Anon  I 2018   \\nCrime, Sci-Fi, Thriller                 6.1   \n",
       "1047  Welcome Home  I 2018                  \\nThriller                 5.2   \n",
       "\n",
       "                                               Describe  \\\n",
       "36    \\nA team of young superheroes combat evil and ...   \n",
       "443   \\nFrench dancers gather in a remote, empty sch...   \n",
       "880   \\nAn epic set in post-WWII Japan and centered ...   \n",
       "899   \\nIn a world without anonymity or crime, a det...   \n",
       "1047  \\nA couple spend a weekend at a vacation renta...   \n",
       "\n",
       "                                                  Stars   Votes  Runtime  \n",
       "36    \\n            \\n    Stars:\\nBrenton Thwaites, ...  73,656     45.0  \n",
       "443   \\n    Director:\\nGaspar Noé\\n| \\n    Stars:\\nS...  58,051     97.0  \n",
       "880   \\n    Director:\\nMartin Zandvliet\\n| \\n    Sta...  22,393    120.0  \n",
       "899   \\n    Director:\\nAndrew Niccol\\n| \\n    Stars:...  40,017    100.0  \n",
       "1047  \\n    Director:\\nGeorge Ratliff\\n| \\n    Stars...   6,846     97.0  "
      ]
     },
     "execution_count": 17,
     "metadata": {},
     "output_type": "execute_result"
    }
   ],
   "source": [
    "#there are a lot of incorrect values \n",
    "df[\"Year\"].unique()"
   ]
  },
  {
   "cell_type": "code",
   "execution_count": 18,
   "id": "d27e2a20-1121-4bf3-9a12-b346257ff86d",
   "metadata": {},
   "outputs": [],
   "source": [
    "# seprate the characters from numbers and fix them\n",
    "df['Year'] = df['Year'].str.replace(\"I 2018\", \"2018\")"
   ]
  },
  {
   "cell_type": "code",
   "execution_count": 19,
   "id": "98edd76e-e8d6-49cb-9961-e3e778861020",
   "metadata": {},
   "outputs": [
    {
     "name": "stderr",
     "output_type": "stream",
     "text": [
      "<>:1: SyntaxWarning: invalid escape sequence '\\d'\n",
      "<>:1: SyntaxWarning: invalid escape sequence '\\d'\n",
      "C:\\Users\\nitro 5\\AppData\\Local\\Temp\\ipykernel_17324\\3680823190.py:1: SyntaxWarning: invalid escape sequence '\\d'\n",
      "  df[\"Year\"] = df['Year'].str.extract('(\\d+)', expand=False)\n"
     ]
    }
   ],
   "source": [
    "df[\"Year\"] = df['Year'].str.extract('(\\d+)', expand=False)"
   ]
  },
  {
   "cell_type": "code",
   "execution_count": 20,
   "id": "266e7dca-755e-495c-8c7e-b1ee70649fa9",
   "metadata": {},
   "outputs": [
    {
     "data": {
      "text/plain": [
       "748"
      ]
     },
     "execution_count": 20,
     "metadata": {},
     "output_type": "execute_result"
    }
   ],
   "source": [
    "df[\"Year\"].isnull().sum()"
   ]
  },
  {
   "cell_type": "code",
   "execution_count": 21,
   "id": "d7af1c56-a45b-4acc-8343-9b8f74246dd2",
   "metadata": {},
   "outputs": [],
   "source": [
    "# Handling missing values in \"Year\" column\n",
    "is_null_year = df[df[\"Year\"].isnull() == False]\n",
    "is_null_year = is_null_year[\"Year\"].astype(\"int32\")\n",
    "is_null_year.median()\n",
    "df[\"Year\"] = df[\"Year\"].fillna(2018)\n",
    "df[\"Year\"] = df[\"Year\"].astype(\"int32\")"
   ]
  },
  {
   "cell_type": "code",
   "execution_count": 22,
   "id": "3c7cb0df-b8f4-4a04-8029-eb0895c97175",
   "metadata": {},
   "outputs": [
    {
     "data": {
      "text/plain": [
       "Movies         0\n",
       "Year           0\n",
       "Genre         80\n",
       "Rating      1820\n",
       "Describe       0\n",
       "Stars          0\n",
       "Votes       1820\n",
       "Runtime     2958\n",
       "dtype: int64"
      ]
     },
     "execution_count": 22,
     "metadata": {},
     "output_type": "execute_result"
    }
   ],
   "source": [
    "df.isnull().sum()"
   ]
  },
  {
   "cell_type": "code",
   "execution_count": 23,
   "id": "fbffa68f-a4e6-41d7-8594-3e5943b9bca2",
   "metadata": {},
   "outputs": [],
   "source": [
    "# fixing the pattern of the \"Genre\" column and clean values\n",
    "df[\"Genre\"] = df[\"Genre\"].replace(\"\\n\", \"\", regex=True)\n",
    "df[\"Genre\"] = df[\"Genre\"].str.strip()"
   ]
  },
  {
   "cell_type": "code",
   "execution_count": 24,
   "id": "28c5dc0a-e671-4bef-b6cf-e630b83d34ce",
   "metadata": {},
   "outputs": [],
   "source": [
    "# fix the pattern of the \"Describe\" column and clean values\n",
    "df[\"Describe\"] = df[\"Describe\"].replace(\"\\n\", \"\", regex=True)"
   ]
  },
  {
   "cell_type": "code",
   "execution_count": 25,
   "id": "2c20317d-bf90-4b81-a21f-ee3f90b5a138",
   "metadata": {},
   "outputs": [
    {
     "data": {
      "text/plain": [
       "0       A woman with a mysterious illness is forced in...\n",
       "1       The war for Eternia begins again in what may b...\n",
       "2       Sheriff Deputy Rick Grimes wakes up from a com...\n",
       "3       An animated series that follows the exploits o...\n",
       "4       A prequel, set before the events of Army of th...\n",
       "                              ...                        \n",
       "9994                                           Add a Plot\n",
       "9995                                           Add a Plot\n",
       "9996                                           Add a Plot\n",
       "9997                                           Add a Plot\n",
       "9998                                           Add a Plot\n",
       "Name: Describe, Length: 9999, dtype: object"
      ]
     },
     "execution_count": 25,
     "metadata": {},
     "output_type": "execute_result"
    }
   ],
   "source": [
    "df[\"Describe\"]"
   ]
  },
  {
   "cell_type": "code",
   "execution_count": 26,
   "id": "7e5af36e-7944-4f75-a271-86bed2c770be",
   "metadata": {
    "scrolled": true
   },
   "outputs": [
    {
     "data": {
      "text/html": [
       "<div>\n",
       "<style scoped>\n",
       "    .dataframe tbody tr th:only-of-type {\n",
       "        vertical-align: middle;\n",
       "    }\n",
       "\n",
       "    .dataframe tbody tr th {\n",
       "        vertical-align: top;\n",
       "    }\n",
       "\n",
       "    .dataframe thead th {\n",
       "        text-align: right;\n",
       "    }\n",
       "</style>\n",
       "<table border=\"1\" class=\"dataframe\">\n",
       "  <thead>\n",
       "    <tr style=\"text-align: right;\">\n",
       "      <th></th>\n",
       "      <th>Movies</th>\n",
       "      <th>Year</th>\n",
       "      <th>Genre</th>\n",
       "      <th>Rating</th>\n",
       "      <th>Describe</th>\n",
       "      <th>Stars</th>\n",
       "      <th>Votes</th>\n",
       "      <th>Runtime</th>\n",
       "    </tr>\n",
       "  </thead>\n",
       "  <tbody>\n",
       "    <tr>\n",
       "      <th>1916</th>\n",
       "      <td>Twilight of the Gods</td>\n",
       "      <td>2018</td>\n",
       "      <td>Animation, Action, Adventure</td>\n",
       "      <td>NaN</td>\n",
       "      <td>Add a Plot</td>\n",
       "      <td>\\n            \\n    Stars:\\nPilou Asbæk, \\nJam...</td>\n",
       "      <td>NaN</td>\n",
       "      <td>NaN</td>\n",
       "    </tr>\n",
       "    <tr>\n",
       "      <th>2610</th>\n",
       "      <td>Past Midnight</td>\n",
       "      <td>2018</td>\n",
       "      <td>Action, Adventure, Drama</td>\n",
       "      <td>NaN</td>\n",
       "      <td>Add a Plot</td>\n",
       "      <td>\\n    Director:\\nRick Famuyiwa\\n| \\n    Star:\\...</td>\n",
       "      <td>NaN</td>\n",
       "      <td>NaN</td>\n",
       "    </tr>\n",
       "    <tr>\n",
       "      <th>2710</th>\n",
       "      <td>Thomas &amp; Friends: All Engines Go!</td>\n",
       "      <td>2021</td>\n",
       "      <td>Animation, Adventure, Comedy</td>\n",
       "      <td>NaN</td>\n",
       "      <td>Add a Plot</td>\n",
       "      <td>\\n            \\n    Stars:\\nJohnathan Michael,...</td>\n",
       "      <td>NaN</td>\n",
       "      <td>30.0</td>\n",
       "    </tr>\n",
       "    <tr>\n",
       "      <th>2775</th>\n",
       "      <td>The Princess Switch 3</td>\n",
       "      <td>2021</td>\n",
       "      <td>Comedy, Drama, Family</td>\n",
       "      <td>NaN</td>\n",
       "      <td>Add a Plot</td>\n",
       "      <td>\\n    Director:\\nMike Rohl\\n| \\n    Stars:\\nVa...</td>\n",
       "      <td>NaN</td>\n",
       "      <td>NaN</td>\n",
       "    </tr>\n",
       "    <tr>\n",
       "      <th>3144</th>\n",
       "      <td>Our Man from Jersey</td>\n",
       "      <td>2018</td>\n",
       "      <td>NaN</td>\n",
       "      <td>NaN</td>\n",
       "      <td>Add a Plot</td>\n",
       "      <td>\\n            \\n    Stars:\\nMark Wahlberg, \\nH...</td>\n",
       "      <td>NaN</td>\n",
       "      <td>NaN</td>\n",
       "    </tr>\n",
       "  </tbody>\n",
       "</table>\n",
       "</div>"
      ],
      "text/plain": [
       "                                 Movies  Year                         Genre  \\\n",
       "1916               Twilight of the Gods  2018  Animation, Action, Adventure   \n",
       "2610                      Past Midnight  2018      Action, Adventure, Drama   \n",
       "2710  Thomas & Friends: All Engines Go!  2021  Animation, Adventure, Comedy   \n",
       "2775              The Princess Switch 3  2021         Comedy, Drama, Family   \n",
       "3144                Our Man from Jersey  2018                           NaN   \n",
       "\n",
       "      Rating    Describe                                              Stars  \\\n",
       "1916     NaN  Add a Plot  \\n            \\n    Stars:\\nPilou Asbæk, \\nJam...   \n",
       "2610     NaN  Add a Plot  \\n    Director:\\nRick Famuyiwa\\n| \\n    Star:\\...   \n",
       "2710     NaN  Add a Plot  \\n            \\n    Stars:\\nJohnathan Michael,...   \n",
       "2775     NaN  Add a Plot  \\n    Director:\\nMike Rohl\\n| \\n    Stars:\\nVa...   \n",
       "3144     NaN  Add a Plot  \\n            \\n    Stars:\\nMark Wahlberg, \\nH...   \n",
       "\n",
       "     Votes  Runtime  \n",
       "1916   NaN      NaN  \n",
       "2610   NaN      NaN  \n",
       "2710   NaN     30.0  \n",
       "2775   NaN      NaN  \n",
       "3144   NaN      NaN  "
      ]
     },
     "execution_count": 26,
     "metadata": {},
     "output_type": "execute_result"
    }
   ],
   "source": [
    "# there are custome missing values in \"Describe\" column \n",
    "filt = df[\"Describe\"] == \"Add a Plot\"\n",
    "df2 = df[filt].copy()\n",
    "df2.head()"
   ]
  },
  {
   "cell_type": "code",
   "execution_count": 27,
   "id": "2b26b0e4-4ea8-4e03-ac05-028155830674",
   "metadata": {},
   "outputs": [
    {
     "data": {
      "text/plain": [
       "Movies         0\n",
       "Year           0\n",
       "Genre         31\n",
       "Rating       888\n",
       "Describe       0\n",
       "Stars          0\n",
       "Votes        888\n",
       "Runtime     1053\n",
       "dtype: int64"
      ]
     },
     "execution_count": 27,
     "metadata": {},
     "output_type": "execute_result"
    }
   ],
   "source": [
    "df2.isnull().sum()"
   ]
  },
  {
   "cell_type": "code",
   "execution_count": 28,
   "id": "4e609111-b93c-4a7c-8935-5d299951bd56",
   "metadata": {},
   "outputs": [],
   "source": [
    "# fix and drop missing values from test DataFrame\n",
    "df2.dropna(axis=\"index\", subset=[\"Genre\"], inplace=True)\n",
    "df2.dropna(how=\"all\", axis=\"index\", subset=[\"Rating\", \"Votes\", \"Runtime\"], inplace=True)"
   ]
  },
  {
   "cell_type": "code",
   "execution_count": 29,
   "id": "18e8092c-6424-4ca0-8a02-a079ab003d22",
   "metadata": {},
   "outputs": [
    {
     "data": {
      "text/plain": [
       "1265"
      ]
     },
     "execution_count": 29,
     "metadata": {},
     "output_type": "execute_result"
    }
   ],
   "source": [
    "# convert custome missing values to NaN \n",
    "df[\"Describe\"] = df[\"Describe\"].replace(\"Add a Plot\", np.nan)\n",
    "df[\"Describe\"].isnull().sum()"
   ]
  },
  {
   "cell_type": "code",
   "execution_count": 30,
   "id": "4b862dc3-ac4a-4cad-bc96-47b865a5fabc",
   "metadata": {},
   "outputs": [],
   "source": [
    "# Handling missing values\n",
    "df.dropna(how=\"all\", axis=\"index\", subset=[\"Describe\", \"Genre\"], inplace=True)\n",
    "df.dropna(how=\"all\", axis=\"index\", subset=[\"Describe\", \"Rating\", \"Runtime\"], inplace=True)"
   ]
  },
  {
   "cell_type": "code",
   "execution_count": 31,
   "id": "fa6e52ea-e026-44b4-a2fe-f8d2b9aec469",
   "metadata": {},
   "outputs": [
    {
     "data": {
      "text/plain": [
       "Movies         0\n",
       "Year           0\n",
       "Genre         49\n",
       "Rating      1002\n",
       "Describe     441\n",
       "Stars          0\n",
       "Votes       1002\n",
       "Runtime     2137\n",
       "dtype: int64"
      ]
     },
     "execution_count": 31,
     "metadata": {},
     "output_type": "execute_result"
    }
   ],
   "source": [
    "df.isnull().sum()"
   ]
  },
  {
   "cell_type": "code",
   "execution_count": 32,
   "id": "35858fb8-9ee1-42ce-8685-519dbc6a77ab",
   "metadata": {},
   "outputs": [
    {
     "data": {
      "text/plain": [
       "count    7038.000000\n",
       "mean       68.684712\n",
       "std        47.262075\n",
       "min         1.000000\n",
       "25%        36.000000\n",
       "50%        60.000000\n",
       "75%        95.000000\n",
       "max       853.000000\n",
       "Name: Runtime, dtype: float64"
      ]
     },
     "execution_count": 32,
     "metadata": {},
     "output_type": "execute_result"
    }
   ],
   "source": [
    "# \n",
    "df[\"Runtime\"].describe()"
   ]
  },
  {
   "cell_type": "code",
   "execution_count": 96,
   "id": "8d62db56-24fc-4745-a6f7-d7503d147e6c",
   "metadata": {},
   "outputs": [
    {
     "data": {
      "text/plain": [
       "<Axes: >"
      ]
     },
     "execution_count": 96,
     "metadata": {},
     "output_type": "execute_result"
    },
    {
     "data": {
      "image/png": "[encoded data removed]",
      "text/plain": [
       "<Figure size 640x480 with 1 Axes>"
      ]
     },
     "metadata": {},
     "output_type": "display_data"
    }
   ],
   "source": [
    "bins = [i for i in range(0,700, 25)]\n",
    "df[\"Runtime\"].hist(bins=bins, edgecolor='black')"
   ]
  },
  {
   "cell_type": "code",
   "execution_count": 86,
   "id": "1ce3bec3-cd63-46cf-b9fb-b60403e0826d",
   "metadata": {},
   "outputs": [
    {
     "name": "stdout",
     "output_type": "stream",
     "text": [
      "44.0 89.0\n"
     ]
    }
   ],
   "source": [
    "# Outlier detection\n",
    "df[\"Runtime\"] = df[\"Runtime\"].fillna(68)\n",
    "Q1 = np.percentile(df[\"Runtime\"], 25)\n",
    "Q3 = np.percentile(df[\"Runtime\"], 75)\n",
    "print(Q1,Q3)\n",
    "IQR = Q3 - Q1\n",
    "lower_bound = Q1 - 1.5 * IQR\n",
    "upper_bound = Q3 + 1.5 * IQR"
   ]
  },
  {
   "cell_type": "code",
   "execution_count": 84,
   "id": "23d8d3f4-343d-4265-ac67-56eb4d92f50e",
   "metadata": {},
   "outputs": [
    {
     "name": "stdout",
     "output_type": "stream",
     "text": [
      "-23.5 156.5 45.0\n"
     ]
    }
   ],
   "source": [
    "print(lower_bound, upper_bound, IQR)"
   ]
  },
  {
   "cell_type": "code",
   "execution_count": 94,
   "id": "6e44dc16-b52e-4f8c-91a8-70ad6c05ff9a",
   "metadata": {},
   "outputs": [
    {
     "data": {
      "text/plain": [
       "count    9031.000000\n",
       "mean       65.320120\n",
       "std        29.532525\n",
       "min         1.000000\n",
       "25%        43.000000\n",
       "50%        68.000000\n",
       "75%        87.000000\n",
       "max       156.000000\n",
       "Name: Runtime, dtype: float64"
      ]
     },
     "execution_count": 94,
     "metadata": {},
     "output_type": "execute_result"
    },
    {
     "data": {
      "image/png": "[encoded data removed]",
      "text/plain": [
       "<Figure size 640x480 with 1 Axes>"
      ]
     },
     "metadata": {},
     "output_type": "display_data"
    }
   ],
   "source": [
    "df_no_outliers = df[(df['Runtime'] >= lower_bound) & (df['Runtime'] <= upper_bound)]\n",
    "bins = [i for i in range(30, 200,10)]\n",
    "df_no_outliers[\"Runtime\"].hist(bins=bins, edgecolor='black')\n",
    "df_no_outliers[\"Runtime\"].describe()"
   ]
  },
  {
   "cell_type": "code",
   "execution_count": 90,
   "id": "4a2a4b39-4ca4-4bb7-a77c-70f66fca34f7",
   "metadata": {},
   "outputs": [
    {
     "data": {
      "text/plain": [
       "count    9175.000000\n",
       "mean       68.525232\n",
       "std        41.394040\n",
       "min         1.000000\n",
       "25%        44.000000\n",
       "50%        68.000000\n",
       "75%        89.000000\n",
       "max       853.000000\n",
       "Name: Runtime, dtype: float64"
      ]
     },
     "execution_count": 90,
     "metadata": {},
     "output_type": "execute_result"
    }
   ],
   "source": [
    "df[\"Runtime\"].describe()"
   ]
  },
  {
   "cell_type": "code",
   "execution_count": 104,
   "id": "7a364d96-4e94-440e-b697-8e3f53e1bfb3",
   "metadata": {},
   "outputs": [
    {
     "name": "stdout",
     "output_type": "stream",
     "text": [
      "<class 'pandas.core.frame.DataFrame'>\n",
      "Index: 9175 entries, 0 to 9979\n",
      "Data columns (total 8 columns):\n",
      " #   Column    Non-Null Count  Dtype  \n",
      "---  ------    --------------  -----  \n",
      " 0   Movies    9175 non-null   object \n",
      " 1   Year      9175 non-null   int32  \n",
      " 2   Genre     9126 non-null   object \n",
      " 3   Rating    8173 non-null   float64\n",
      " 4   Describe  8734 non-null   object \n",
      " 5   Stars     9175 non-null   object \n",
      " 6   Votes     8173 non-null   object \n",
      " 7   Runtime   9031 non-null   float64\n",
      "dtypes: float64(2), int32(1), object(5)\n",
      "memory usage: 609.3+ KB\n"
     ]
    }
   ],
   "source": [
    "df[\"Runtime\"] = df_no_outliers[\"Runtime\"]\n",
    "df.info()"
   ]
  },
  {
   "cell_type": "code",
   "execution_count": null,
   "id": "8b09f41b-516f-431c-8c7f-caa532eb2297",
   "metadata": {},
   "outputs": [],
   "source": []
  }
 ],
 "metadata": {
  "kernelspec": {
   "display_name": "Python 3 (ipykernel)",
   "language": "python",
   "name": "python3"
  },
  "language_info": {
   "codemirror_mode": {
    "name": "ipython",
    "version": 3
   },
   "file_extension": ".py",
   "mimetype": "text/x-python",
   "name": "python",
   "nbconvert_exporter": "python",
   "pygments_lexer": "ipython3",
   "version": "3.11.0"
  }
 },
 "nbformat": 4,
 "nbformat_minor": 5
}
